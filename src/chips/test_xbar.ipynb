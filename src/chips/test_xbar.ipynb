{
 "cells": [
  {
   "cell_type": "markdown",
   "metadata": {},
   "source": [
    "# Testing the xbar models\n",
    "\n",
    "First load in the model architecture."
   ]
  },
  {
   "cell_type": "code",
   "execution_count": null,
   "metadata": {},
   "outputs": [],
   "source": [
    "import numpy as np\n",
    "import torch\n",
    "import torch.nn as nn\n",
    "import pickle\n",
    "\n",
    "class DEHNNLayer(nn.Module):\n",
    "    def __init__(self, node_in_features, edge_in_features, vn_features, hidden_features):\n",
    "        super(DEHNNLayer, self).__init__()\n",
    "        self.node_mlp1 = nn.Sequential(nn.Linear(edge_in_features, hidden_features),\n",
    "                                       nn.ReLU(),\n",
    "                                       nn.Linear(hidden_features, edge_in_features))\n",
    "        \n",
    "        self.edge_mlp2 = nn.Sequential(nn.Linear(node_in_features, hidden_features),\n",
    "                                       nn.ReLU(),\n",
    "                                       nn.Linear(hidden_features, node_in_features))\n",
    "        \n",
    "        self.edge_mlp3 = nn.Sequential(nn.Linear(2 * node_in_features, hidden_features),\n",
    "                                       nn.ReLU(),\n",
    "                                       nn.Linear(hidden_features, 2 * node_in_features))\n",
    "\n",
    "        self.node_to_virtual_mlp = nn.Sequential(nn.Linear(node_in_features, hidden_features),\n",
    "                                       nn.ReLU(),\n",
    "                                       nn.Linear(hidden_features, vn_features))\n",
    "        \n",
    "        self.virtual_to_higher_virtual_mlp = nn.Sequential(nn.Linear(vn_features, hidden_features),\n",
    "                                       nn.ReLU(),\n",
    "                                       nn.Linear(hidden_features, vn_features))\n",
    "        \n",
    "        self.higher_virtual_to_virtual_mlp = nn.Sequential(nn.Linear(vn_features, hidden_features),\n",
    "                                       nn.ReLU(),\n",
    "                                       nn.Linear(hidden_features, vn_features))\n",
    "        \n",
    "        self.virtual_to_node_mlp = nn.Sequential(nn.Linear(vn_features, hidden_features),\n",
    "                                       nn.ReLU(),\n",
    "                                       nn.Linear(hidden_features, edge_in_features))\n",
    "\n",
    "\n",
    "    def forward(self, node_features, edge_features, vn_features, super_vn_features, hypergraph):\n",
    "\n",
    "        # Node Update\n",
    "        transformed_edge_features = self.node_mlp1(edge_features)\n",
    "        updated_node_features = torch.matmul(hypergraph.incidence_matrix, transformed_edge_features)\n",
    "\n",
    "        # Edge Update\n",
    "        transformed_node_features = self.edge_mlp2(node_features)\n",
    "        driver_features = torch.matmul(hypergraph.driver_matrix, transformed_node_features)\n",
    "        sink_features = torch.matmul(hypergraph.sink_matrix, transformed_node_features)\n",
    "        updated_edge_features = torch.cat([driver_features, sink_features], dim=1)\n",
    "        updated_edge_features = self.edge_mlp3(updated_edge_features)\n",
    "        \n",
    "        # First Level VN Update\n",
    "        node_to_virtual_features = self.node_to_virtual_mlp(node_features)\n",
    "        updated_vn_features = torch.matmul(hypergraph.vn_matrix, node_to_virtual_features)\n",
    "        updated_vn_features += self.higher_virtual_to_virtual_mlp(super_vn_features)\n",
    "\n",
    "        # Top Level VN Update\n",
    "        virtual_to_higher_virtual_features = self.virtual_to_higher_virtual_mlp(vn_features)\n",
    "        updated_super_vn_features = torch.sum(virtual_to_higher_virtual_features, dim=0)\n",
    "\n",
    "        # VN to node update\n",
    "        virtual_to_node_features = self.virtual_to_node_mlp(vn_features)\n",
    "        propagated_features = torch.matmul(hypergraph.vn_matrix.T, virtual_to_node_features)\n",
    "        updated_node_features += propagated_features\n",
    "\n",
    "        return updated_node_features, updated_edge_features, updated_vn_features, updated_super_vn_features\n",
    "\n",
    "\n",
    "class DEHNN(nn.Module):\n",
    "    def __init__(self, num_layers, node_in_features, edge_in_features, hidden_features=24):\n",
    "        super(DEHNN, self).__init__()\n",
    "        self.num_layers = num_layers\n",
    "        self.layers = nn.ModuleList()\n",
    "        \n",
    "        # Create multiple layers for DEHNN\n",
    "        vn_in_features = node_in_features\n",
    "        for i in range(num_layers):\n",
    "            self.layers.append(DEHNNLayer(node_in_features, edge_in_features, vn_in_features, hidden_features))\n",
    "            node_in_features, edge_in_features = edge_in_features, node_in_features\n",
    "            edge_in_features *= 2\n",
    "        \n",
    "        self.output_layer = nn.Sequential(nn.Linear(edge_in_features, hidden_features),\n",
    "                                       nn.ReLU(),\n",
    "                                       nn.Linear(hidden_features, 1))\n",
    "\n",
    "    def forward(self, node_features, edge_features, vn_features, super_vn_features, hypergraph):\n",
    "        # Pass through each layer\n",
    "        for layer in self.layers:\n",
    "            node_features, edge_features, vn_features, super_vn_features = layer(node_features, edge_features, vn_features, super_vn_features, hypergraph)\n",
    "        \n",
    "        # Output prediction for nodes\n",
    "        output = self.output_layer(edge_features)\n",
    "        return output[:,0]\n",
    "\n",
    "class Hypergraph:\n",
    "    def __init__(self, incidence_matrix, driver_matrix, sink_matrix, vn_matrix):\n",
    "        self.incidence_matrix = incidence_matrix\n",
    "        self.driver_matrix = driver_matrix\n",
    "        self.sink_matrix = sink_matrix\n",
    "        self.vn_matrix = vn_matrix\n",
    "\n",
    "device = torch.device('cuda' if torch.cuda.is_available() else 'cpu')\n",
    "\n",
    "clean_data_dir = '../../data/chips/clean_data/'\n",
    "\n",
    "train_idx = [1, 2, 3, 4, 5, 6, 7, 8, 11, 12]\n",
    "data = []\n",
    "\n",
    "for i in train_idx:\n",
    "    connectivity = np.load(clean_data_dir + str(i) + '.connectivity.npz')\n",
    "    incidence_matrix = torch.sparse_coo_tensor(torch.tensor(np.array([connectivity['row'], connectivity['col']])), torch.ones(connectivity['dirs'].shape), dtype=torch.float).to(device)\n",
    "\n",
    "    drivers = np.load(clean_data_dir + str(i) + '.drivers.npz')\n",
    "    driver_matrix = torch.sparse_coo_tensor(torch.tensor(np.array([drivers['col'], drivers['row']])), torch.ones(drivers['data'].shape), dtype=torch.float).to(device)\n",
    "\n",
    "    sinks = np.load(clean_data_dir + str(i) + '.sinks.npz')\n",
    "    sink_matrix = torch.sparse_coo_tensor(torch.tensor(np.array([sinks['col'], sinks['row']])), torch.ones(sinks['data'].shape), dtype=torch.float).to(device)\n",
    "\n",
    "    features = np.load(clean_data_dir + str(i) + '.features.npz')\n",
    "    node_features = features['node_features']\n",
    "    edge_features = features['net_features']\n",
    "    wire = features['hpwl']\n",
    "    # congestion = np.argmax(congestion, axis=1)\n",
    "\n",
    "    node_features = torch.tensor(node_features, dtype=torch.float).to(device)\n",
    "    edge_features = torch.tensor(edge_features, dtype=torch.float).to(device)\n",
    "    # congestion = torch.tensor(congestion, dtype=torch.float).to(device)\n",
    "    wire = torch.tensor(wire, dtype=torch.float).to(device)\n",
    "\n",
    "    num_nodes, num_node_features = node_features.shape\n",
    "    num_edges, num_edge_features = edge_features.shape\n",
    "\n",
    "    virtual_nodes = np.load(clean_data_dir + str(i) + '.virtual_nodes.npz')\n",
    "    vn_rows = virtual_nodes['row']\n",
    "    vn_cols = virtual_nodes['col']\n",
    "    vn_matrix = torch.sparse_coo_tensor(torch.tensor(np.array([vn_rows, vn_cols])), torch.ones(len(vn_rows)), dtype=torch.float).to(device)\n",
    "\n",
    "    num_vn = vn_matrix.shape[0]\n",
    "    num_vn_features = num_node_features\n",
    "    vn_features = torch.zeros((num_vn, num_vn_features), dtype=torch.float).to(device)\n",
    "    super_vn_features = torch.zeros(num_vn_features, dtype=torch.float).to(device)\n",
    "\n",
    "    hypergraph = Hypergraph(incidence_matrix, driver_matrix, sink_matrix, vn_matrix)\n",
    "\n",
    "    data.append((node_features, edge_features, vn_features, super_vn_features, hypergraph, wire))\n"
   ]
  },
  {
   "cell_type": "markdown",
   "metadata": {},
   "source": [
    "Load in the model weights"
   ]
  },
  {
   "cell_type": "code",
   "execution_count": null,
   "metadata": {},
   "outputs": [],
   "source": [
    "model = torch.load('hpwl_xbar.pt')"
   ]
  },
  {
   "cell_type": "markdown",
   "metadata": {},
   "source": [
    "Open the chip you want to test by index"
   ]
  },
  {
   "cell_type": "code",
   "execution_count": null,
   "metadata": {},
   "outputs": [],
   "source": [
    "node_features, edge_features, vn_features, super_vn_features, hypergraph, wire = data[0]"
   ]
  },
  {
   "cell_type": "markdown",
   "metadata": {},
   "source": [
    "Run the chip through the model"
   ]
  },
  {
   "cell_type": "code",
   "execution_count": null,
   "metadata": {},
   "outputs": [],
   "source": [
    "output = model(node_features, edge_features, vn_features, super_vn_features, hypergraph)"
   ]
  },
  {
   "cell_type": "markdown",
   "metadata": {},
   "source": [
    "Calculate metrics from the outputted data"
   ]
  },
  {
   "cell_type": "code",
   "execution_count": null,
   "metadata": {},
   "outputs": [],
   "source": [
    "prediction = output.detach().cpu().numpy()\n",
    "actual = wire.detach().cpu().numpy()\n",
    "\n",
    "mae = np.mean(np.abs(prediction - actual))\n",
    "print(f'MAE: {mae}')\n",
    "\n",
    "rmse = np.mean((prediction - actual) ** 2)\n",
    "print(f'RMSE: {rmse}')"
   ]
  }
 ],
 "metadata": {
  "kernelspec": {
   "display_name": "capstone",
   "language": "python",
   "name": "python3"
  },
  "language_info": {
   "codemirror_mode": {
    "name": "ipython",
    "version": 3
   },
   "file_extension": ".py",
   "mimetype": "text/x-python",
   "name": "python",
   "nbconvert_exporter": "python",
   "pygments_lexer": "ipython3",
   "version": "3.8.8"
  }
 },
 "nbformat": 4,
 "nbformat_minor": 2
}
